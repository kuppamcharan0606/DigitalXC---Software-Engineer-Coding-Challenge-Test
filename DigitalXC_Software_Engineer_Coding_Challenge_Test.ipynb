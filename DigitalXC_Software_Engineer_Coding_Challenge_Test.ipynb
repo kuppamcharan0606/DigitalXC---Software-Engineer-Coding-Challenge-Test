{
  "nbformat": 4,
  "nbformat_minor": 0,
  "metadata": {
    "colab": {
      "provenance": [],
      "authorship_tag": "ABX9TyOoALdaifkIst10E7QWiqL5",
      "include_colab_link": true
    },
    "kernelspec": {
      "name": "python3",
      "display_name": "Python 3"
    },
    "language_info": {
      "name": "python"
    }
  },
  "cells": [
    {
      "cell_type": "markdown",
      "metadata": {
        "id": "view-in-github",
        "colab_type": "text"
      },
      "source": [
        "<a href=\"https://colab.research.google.com/github/kuppamcharan0606/DigitalXC---Software-Engineer-Coding-Challenge-Test/blob/master/DigitalXC_Software_Engineer_Coding_Challenge_Test.ipynb\" target=\"_parent\"><img src=\"https://colab.research.google.com/assets/colab-badge.svg\" alt=\"Open In Colab\"/></a>"
      ]
    },
    {
      "cell_type": "code",
      "execution_count": 1,
      "metadata": {
        "colab": {
          "base_uri": "https://localhost:8080/"
        },
        "id": "FfJePeixyaGq",
        "outputId": "d53922b1-11cc-4c20-bad8-26cc103a25fc"
      },
      "outputs": [
        {
          "output_type": "stream",
          "name": "stdout",
          "text": [
            "Group_name\tNumber of occurrences\n",
            "<I>Huntingdon GMs,GCP Team FR</I>\t1\n",
            "<I>SML Group GMs</I>\t1\n",
            "<I>Eastend GMs</I>\t2\n",
            "<I>Huntingdon And LiZ Area GMs</I>\t1\n",
            "<I>86A</I>\t1\n",
            "<I>Okta_FR_Local</I>\t1\n",
            "<I>Okta-Global_YOOBIC</I>\t1\n",
            "<I>Darlington Group GMs</I>\t1\n",
            "<I>Gurgaon-Shops</I>\t2\n",
            "<I>Hillingdon West Group</I>\t1\n",
            "<I>Coffee subs & loyalty team</I>\t2\n",
            "<I>Revatta_SSO</I>\t1\n",
            "<I>Electron,TM-Electron</I>\t1\n",
            "<I>Partners in GR</I>\t2\n",
            "<I>JOP Team FR</I>\t1\n",
            "<I>Catering services team</I>\t1\n"
          ]
        }
      ],
      "source": [
        "import pandas as pd\n",
        "\n",
        "def count_group_occurrences(file_path, column_name, group_identifier):\n",
        "    data = pd.read_excel(file_path)\n",
        "    comments_column = data[column_name]\n",
        "    group_occurrences = {}\n",
        "\n",
        "    for comment in comments_column:\n",
        "        if group_identifier in comment:\n",
        "            start_index = comment.index(\"[code]\") + len(\"[code]\")\n",
        "            end_index = comment.index(\"[/code]\")\n",
        "            group_name = comment[start_index:end_index].strip()\n",
        "\n",
        "            if group_name in group_occurrences:\n",
        "                group_occurrences[group_name] += 1\n",
        "            else:\n",
        "                group_occurrences[group_name] = 1\n",
        "\n",
        "    print(\"Group_name\\tNumber of occurrences\")\n",
        "    for group_name, count in group_occurrences.items():\n",
        "        print(f\"{group_name}\\t{count}\")\n",
        "\n",
        "# Usage example\n",
        "file_path = \"/content/coding challenge test.xlsx\"\n",
        "column_name = \"Additional comments\"\n",
        "group_identifier = \"Groups :\"\n",
        "\n",
        "count_group_occurrences(file_path, column_name, group_identifier)\n"
      ]
    }
  ]
}